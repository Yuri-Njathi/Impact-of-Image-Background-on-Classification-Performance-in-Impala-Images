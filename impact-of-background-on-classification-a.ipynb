{
 "cells": [
  {
   "cell_type": "markdown",
   "id": "278b24da",
   "metadata": {
    "papermill": {
     "duration": 0.006748,
     "end_time": "2024-04-28T18:34:17.876669",
     "exception": false,
     "start_time": "2024-04-28T18:34:17.869921",
     "status": "completed"
    },
    "tags": []
   },
   "source": [
    "# Zero Shot Detection \n",
    "\n",
    "- Using MobileNet V3"
   ]
  },
  {
   "cell_type": "code",
   "execution_count": 1,
   "id": "84e0b1c4",
   "metadata": {
    "execution": {
     "iopub.execute_input": "2024-04-28T18:34:17.891107Z",
     "iopub.status.busy": "2024-04-28T18:34:17.890682Z",
     "iopub.status.idle": "2024-04-28T18:34:17.904411Z",
     "shell.execute_reply": "2024-04-28T18:34:17.903208Z"
    },
    "papermill": {
     "duration": 0.024052,
     "end_time": "2024-04-28T18:34:17.907348",
     "exception": false,
     "start_time": "2024-04-28T18:34:17.883296",
     "status": "completed"
    },
    "tags": []
   },
   "outputs": [],
   "source": [
    "def predict(image_path,classes_dict):\n",
    "\n",
    "    # Define image preprocessing pipeline\n",
    "    preprocess = transforms.Compose([\n",
    "        transforms.Resize(256),\n",
    "        transforms.CenterCrop(224),\n",
    "        transforms.ToTensor(),\n",
    "        transforms.Normalize(mean=[0.485, 0.456, 0.406], std=[0.229, 0.224, 0.225]),\n",
    "    ])\n",
    "\n",
    "    # Load and preprocess the input image\n",
    "    image = Image.open(image_path)\n",
    "    input_tensor = preprocess(image)\n",
    "    input_batch = input_tensor.unsqueeze(0)  # Add a batch dimension\n",
    "\n",
    "    # Perform inference\n",
    "    with torch.no_grad():\n",
    "        output = model(input_batch)\n",
    "\n",
    "    # Process the output probabilities\n",
    "    probabilities = torch.nn.functional.softmax(output[0], dim=0)\n",
    "    return probabilities"
   ]
  },
  {
   "cell_type": "markdown",
   "id": "49a243e3",
   "metadata": {
    "papermill": {
     "duration": 0.00598,
     "end_time": "2024-04-28T18:34:17.919273",
     "exception": false,
     "start_time": "2024-04-28T18:34:17.913293",
     "status": "completed"
    },
    "tags": []
   },
   "source": [
    "# Imports and settings"
   ]
  },
  {
   "cell_type": "code",
   "execution_count": 2,
   "id": "94be4d44",
   "metadata": {
    "execution": {
     "iopub.execute_input": "2024-04-28T18:34:17.933356Z",
     "iopub.status.busy": "2024-04-28T18:34:17.932949Z",
     "iopub.status.idle": "2024-04-28T18:34:25.319167Z",
     "shell.execute_reply": "2024-04-28T18:34:25.317483Z"
    },
    "papermill": {
     "duration": 7.39545,
     "end_time": "2024-04-28T18:34:25.321213",
     "exception": false,
     "start_time": "2024-04-28T18:34:17.925763",
     "status": "completed"
    },
    "tags": []
   },
   "outputs": [
    {
     "name": "stderr",
     "output_type": "stream",
     "text": [
      "/opt/conda/lib/python3.10/site-packages/torchvision/models/_utils.py:208: UserWarning: The parameter 'pretrained' is deprecated since 0.13 and may be removed in the future, please use 'weights' instead.\n",
      "  warnings.warn(\n",
      "/opt/conda/lib/python3.10/site-packages/torchvision/models/_utils.py:223: UserWarning: Arguments other than a weight enum or `None` for 'weights' are deprecated since 0.13 and may be removed in the future. The current behavior is equivalent to passing `weights=MobileNet_V3_Small_Weights.IMAGENET1K_V1`. You can also use `weights=MobileNet_V3_Small_Weights.DEFAULT` to get the most up-to-date weights.\n",
      "  warnings.warn(msg)\n",
      "Downloading: \"https://download.pytorch.org/models/mobilenet_v3_small-047dcff4.pth\" to /root/.cache/torch/hub/checkpoints/mobilenet_v3_small-047dcff4.pth\n",
      "100%|██████████| 9.83M/9.83M [00:00<00:00, 73.6MB/s]"
     ]
    },
    {
     "name": "stdout",
     "output_type": "stream",
     "text": [
      "\n"
     ]
    },
    {
     "name": "stderr",
     "output_type": "stream",
     "text": [
      "\n"
     ]
    }
   ],
   "source": [
    "import torch\n",
    "import json\n",
    "import torchvision.models as models\n",
    "import torchvision.transforms as transforms\n",
    "from PIL import Image\n",
    "import os\n",
    "\n",
    "# Load ImageNet class labels\n",
    "with open(\"/kaggle/input/sampledsailporini/labels_map.txt\",\"r\") as f:\n",
    "    classes_dict = json.load(f)\n",
    "\n",
    "# Load pre-trained MobileNetV3 model\n",
    "model = models.mobilenet_v3_small(pretrained=True)\n",
    "# Alternatively, you can use 'mobilenet_v3_large' for the large version\n",
    "\n",
    "# Set model to evaluation mode\n",
    "model.eval()\n",
    "print(\"\")"
   ]
  },
  {
   "cell_type": "markdown",
   "id": "e451b914",
   "metadata": {
    "papermill": {
     "duration": 0.006101,
     "end_time": "2024-04-28T18:34:25.333669",
     "exception": false,
     "start_time": "2024-04-28T18:34:25.327568",
     "status": "completed"
    },
    "tags": []
   },
   "source": [
    "# Inference"
   ]
  },
  {
   "cell_type": "code",
   "execution_count": 3,
   "id": "b4288ab3",
   "metadata": {
    "execution": {
     "iopub.execute_input": "2024-04-28T18:34:25.348308Z",
     "iopub.status.busy": "2024-04-28T18:34:25.347779Z",
     "iopub.status.idle": "2024-04-28T18:34:26.383200Z",
     "shell.execute_reply": "2024-04-28T18:34:26.381747Z"
    },
    "papermill": {
     "duration": 1.045932,
     "end_time": "2024-04-28T18:34:26.385985",
     "exception": false,
     "start_time": "2024-04-28T18:34:25.340053",
     "status": "completed"
    },
    "tags": []
   },
   "outputs": [
    {
     "name": "stderr",
     "output_type": "stream",
     "text": [
      "/opt/conda/lib/python3.10/pty.py:89: RuntimeWarning: os.fork() was called. os.fork() is incompatible with multithreaded code, and JAX is multithreaded, so this will likely lead to a deadlock.\n",
      "  pid, fd = os.forkpty()\n"
     ]
    },
    {
     "name": "stdout",
     "output_type": "stream",
     "text": [
      "__notebook__.ipynb  __results__.html  images\r\n",
      "__output__.json     custom.css\t      single_animal_i_images.csv\r\n"
     ]
    }
   ],
   "source": [
    "!ls /kaggle/input/dsail-porini-dataset-preparation/"
   ]
  },
  {
   "cell_type": "code",
   "execution_count": 4,
   "id": "6af1a41a",
   "metadata": {
    "execution": {
     "iopub.execute_input": "2024-04-28T18:34:26.401441Z",
     "iopub.status.busy": "2024-04-28T18:34:26.401043Z",
     "iopub.status.idle": "2024-04-28T18:34:27.367583Z",
     "shell.execute_reply": "2024-04-28T18:34:27.366416Z"
    },
    "papermill": {
     "duration": 0.977495,
     "end_time": "2024-04-28T18:34:27.370332",
     "exception": false,
     "start_time": "2024-04-28T18:34:26.392837",
     "status": "completed"
    },
    "tags": []
   },
   "outputs": [],
   "source": [
    "import pandas as pd\n",
    "\n",
    "df_impala = pd.read_csv(\"/kaggle/input/impact-of-background-on-cls-with-dets/single_animal_i_dets_images.csv\")#\"/kaggle/input/dsail-porini-dataset-preparation/single_animal_i_images.csv\")\n",
    "\n",
    "df_impalas = df_impala[df_impala[\"no_of_dets_yolov8n\"]>=1]\n",
    "\n",
    "impala_images = df_impalas[\"Filename\"].to_list()"
   ]
  },
  {
   "cell_type": "code",
   "execution_count": 5,
   "id": "8206a92a",
   "metadata": {
    "execution": {
     "iopub.execute_input": "2024-04-28T18:34:27.386384Z",
     "iopub.status.busy": "2024-04-28T18:34:27.385988Z",
     "iopub.status.idle": "2024-04-28T18:34:27.412814Z",
     "shell.execute_reply": "2024-04-28T18:34:27.411468Z"
    },
    "papermill": {
     "duration": 0.037654,
     "end_time": "2024-04-28T18:34:27.415518",
     "exception": false,
     "start_time": "2024-04-28T18:34:27.377864",
     "status": "completed"
    },
    "tags": []
   },
   "outputs": [
    {
     "data": {
      "text/html": [
       "<div>\n",
       "<style scoped>\n",
       "    .dataframe tbody tr th:only-of-type {\n",
       "        vertical-align: middle;\n",
       "    }\n",
       "\n",
       "    .dataframe tbody tr th {\n",
       "        vertical-align: top;\n",
       "    }\n",
       "\n",
       "    .dataframe thead th {\n",
       "        text-align: right;\n",
       "    }\n",
       "</style>\n",
       "<table border=\"1\" class=\"dataframe\">\n",
       "  <thead>\n",
       "    <tr style=\"text-align: right;\">\n",
       "      <th></th>\n",
       "      <th>Filename</th>\n",
       "      <th>Device</th>\n",
       "      <th>Species</th>\n",
       "      <th>Count</th>\n",
       "      <th>Sex</th>\n",
       "      <th>Latitude</th>\n",
       "      <th>Longitude</th>\n",
       "      <th>no_of_dets_yolov8n</th>\n",
       "    </tr>\n",
       "  </thead>\n",
       "  <tbody>\n",
       "    <tr>\n",
       "      <th>0</th>\n",
       "      <td>2021-08-01-07-31-10.jpg</td>\n",
       "      <td>Raspberry Pi 2</td>\n",
       "      <td>IMPALA</td>\n",
       "      <td>4</td>\n",
       "      <td>MALE,FEMALE,FEMALE,FEMALE</td>\n",
       "      <td>-0.390386</td>\n",
       "      <td>36.962348</td>\n",
       "      <td>5</td>\n",
       "    </tr>\n",
       "    <tr>\n",
       "      <th>1</th>\n",
       "      <td>2021-08-01-07-31-13.jpg</td>\n",
       "      <td>Raspberry Pi 2</td>\n",
       "      <td>IMPALA</td>\n",
       "      <td>2</td>\n",
       "      <td>MALE,FEMALE</td>\n",
       "      <td>-0.390386</td>\n",
       "      <td>36.962348</td>\n",
       "      <td>3</td>\n",
       "    </tr>\n",
       "    <tr>\n",
       "      <th>2</th>\n",
       "      <td>2021-08-01-07-31-35.jpg</td>\n",
       "      <td>Raspberry Pi 2</td>\n",
       "      <td>IMPALA</td>\n",
       "      <td>2</td>\n",
       "      <td>FEMALE</td>\n",
       "      <td>-0.390386</td>\n",
       "      <td>36.962348</td>\n",
       "      <td>2</td>\n",
       "    </tr>\n",
       "    <tr>\n",
       "      <th>3</th>\n",
       "      <td>2021-08-01-07-31-41.jpg</td>\n",
       "      <td>Raspberry Pi 2</td>\n",
       "      <td>IMPALA</td>\n",
       "      <td>2</td>\n",
       "      <td>FEMALE</td>\n",
       "      <td>-0.390386</td>\n",
       "      <td>36.962348</td>\n",
       "      <td>1</td>\n",
       "    </tr>\n",
       "    <tr>\n",
       "      <th>5</th>\n",
       "      <td>2021-08-13-16-21-34.jpg</td>\n",
       "      <td>Raspberry Pi 2</td>\n",
       "      <td>IMPALA</td>\n",
       "      <td>1</td>\n",
       "      <td>FEMALE</td>\n",
       "      <td>-0.390386</td>\n",
       "      <td>36.962331</td>\n",
       "      <td>1</td>\n",
       "    </tr>\n",
       "    <tr>\n",
       "      <th>...</th>\n",
       "      <td>...</td>\n",
       "      <td>...</td>\n",
       "      <td>...</td>\n",
       "      <td>...</td>\n",
       "      <td>...</td>\n",
       "      <td>...</td>\n",
       "      <td>...</td>\n",
       "      <td>...</td>\n",
       "    </tr>\n",
       "    <tr>\n",
       "      <th>5245</th>\n",
       "      <td>snapshot_201910949580242.jpg</td>\n",
       "      <td>OpenMV Cam H7</td>\n",
       "      <td>IMPALA</td>\n",
       "      <td>2</td>\n",
       "      <td>MALE,FEMALE</td>\n",
       "      <td>-0.390381</td>\n",
       "      <td>36.962333</td>\n",
       "      <td>1</td>\n",
       "    </tr>\n",
       "    <tr>\n",
       "      <th>5246</th>\n",
       "      <td>snapshot_201910949581191.jpg</td>\n",
       "      <td>OpenMV Cam H7</td>\n",
       "      <td>IMPALA</td>\n",
       "      <td>2</td>\n",
       "      <td>MALE,FEMALE</td>\n",
       "      <td>-0.390381</td>\n",
       "      <td>36.962333</td>\n",
       "      <td>1</td>\n",
       "    </tr>\n",
       "    <tr>\n",
       "      <th>5247</th>\n",
       "      <td>snapshot_201910949582145.jpg</td>\n",
       "      <td>OpenMV Cam H7</td>\n",
       "      <td>IMPALA</td>\n",
       "      <td>2</td>\n",
       "      <td>MALE,FEMALE</td>\n",
       "      <td>-0.390381</td>\n",
       "      <td>36.962333</td>\n",
       "      <td>1</td>\n",
       "    </tr>\n",
       "    <tr>\n",
       "      <th>5248</th>\n",
       "      <td>snapshot_201910949583276.jpg</td>\n",
       "      <td>OpenMV Cam H7</td>\n",
       "      <td>IMPALA</td>\n",
       "      <td>2</td>\n",
       "      <td>CAN'T TELL</td>\n",
       "      <td>-0.390381</td>\n",
       "      <td>36.962333</td>\n",
       "      <td>1</td>\n",
       "    </tr>\n",
       "    <tr>\n",
       "      <th>5249</th>\n",
       "      <td>snapshot_201910949583325.jpg</td>\n",
       "      <td>OpenMV Cam H7</td>\n",
       "      <td>IMPALA</td>\n",
       "      <td>2</td>\n",
       "      <td>CAN'T TELL</td>\n",
       "      <td>-0.390381</td>\n",
       "      <td>36.962333</td>\n",
       "      <td>1</td>\n",
       "    </tr>\n",
       "  </tbody>\n",
       "</table>\n",
       "<p>1060 rows × 8 columns</p>\n",
       "</div>"
      ],
      "text/plain": [
       "                          Filename          Device Species Count  \\\n",
       "0          2021-08-01-07-31-10.jpg  Raspberry Pi 2  IMPALA     4   \n",
       "1          2021-08-01-07-31-13.jpg  Raspberry Pi 2  IMPALA     2   \n",
       "2          2021-08-01-07-31-35.jpg  Raspberry Pi 2  IMPALA     2   \n",
       "3          2021-08-01-07-31-41.jpg  Raspberry Pi 2  IMPALA     2   \n",
       "5          2021-08-13-16-21-34.jpg  Raspberry Pi 2  IMPALA     1   \n",
       "...                            ...             ...     ...   ...   \n",
       "5245  snapshot_201910949580242.jpg   OpenMV Cam H7  IMPALA     2   \n",
       "5246  snapshot_201910949581191.jpg   OpenMV Cam H7  IMPALA     2   \n",
       "5247  snapshot_201910949582145.jpg   OpenMV Cam H7  IMPALA     2   \n",
       "5248  snapshot_201910949583276.jpg   OpenMV Cam H7  IMPALA     2   \n",
       "5249  snapshot_201910949583325.jpg   OpenMV Cam H7  IMPALA     2   \n",
       "\n",
       "                            Sex  Latitude  Longitude  no_of_dets_yolov8n  \n",
       "0     MALE,FEMALE,FEMALE,FEMALE -0.390386  36.962348                   5  \n",
       "1                   MALE,FEMALE -0.390386  36.962348                   3  \n",
       "2                        FEMALE -0.390386  36.962348                   2  \n",
       "3                        FEMALE -0.390386  36.962348                   1  \n",
       "5                        FEMALE -0.390386  36.962331                   1  \n",
       "...                         ...       ...        ...                 ...  \n",
       "5245                MALE,FEMALE -0.390381  36.962333                   1  \n",
       "5246                MALE,FEMALE -0.390381  36.962333                   1  \n",
       "5247                MALE,FEMALE -0.390381  36.962333                   1  \n",
       "5248                 CAN'T TELL -0.390381  36.962333                   1  \n",
       "5249                 CAN'T TELL -0.390381  36.962333                   1  \n",
       "\n",
       "[1060 rows x 8 columns]"
      ]
     },
     "execution_count": 5,
     "metadata": {},
     "output_type": "execute_result"
    }
   ],
   "source": [
    "df_impalas"
   ]
  },
  {
   "cell_type": "code",
   "execution_count": 6,
   "id": "76600a7d",
   "metadata": {
    "execution": {
     "iopub.execute_input": "2024-04-28T18:34:27.432617Z",
     "iopub.status.busy": "2024-04-28T18:34:27.431715Z",
     "iopub.status.idle": "2024-04-28T18:34:27.437228Z",
     "shell.execute_reply": "2024-04-28T18:34:27.435685Z"
    },
    "papermill": {
     "duration": 0.017039,
     "end_time": "2024-04-28T18:34:27.439537",
     "exception": false,
     "start_time": "2024-04-28T18:34:27.422498",
     "status": "completed"
    },
    "tags": []
   },
   "outputs": [],
   "source": [
    "# Initialize an empty list to store data\n",
    "data = []"
   ]
  },
  {
   "cell_type": "code",
   "execution_count": 7,
   "id": "49a31eb7",
   "metadata": {
    "_cell_guid": "b1076dfc-b9ad-4769-8c92-a6c4dae69d19",
    "_uuid": "8f2839f25d086af736a60e9eeb907d3b93b6e0e5",
    "execution": {
     "iopub.execute_input": "2024-04-28T18:34:27.455046Z",
     "iopub.status.busy": "2024-04-28T18:34:27.454653Z",
     "iopub.status.idle": "2024-04-28T18:34:57.028333Z",
     "shell.execute_reply": "2024-04-28T18:34:57.027203Z"
    },
    "papermill": {
     "duration": 29.584654,
     "end_time": "2024-04-28T18:34:57.031014",
     "exception": false,
     "start_time": "2024-04-28T18:34:27.446360",
     "status": "completed"
    },
    "tags": []
   },
   "outputs": [
    {
     "name": "stdout",
     "output_type": "stream",
     "text": [
      "An error occurred for image : 2021-12-25-15-02-29.jpg: [Errno 2] No such file or directory: '/kaggle/input/impala-no-background/images_no_back/2021-12-25-15-02-29.jpg'\n",
      "Images processed :  1059\n"
     ]
    }
   ],
   "source": [
    "path = \"/kaggle/input/impala-no-background/images_no_back/\"#\"/kaggle/input/dsail-porini-dataset-preparation/images/\"\n",
    "idx = 0\n",
    "for image in impala_images:#os.listdir(\"/kaggle/input/sampledsailporini/sample-dsail-porini/dataset\"):\n",
    "    #     if image in [\"2021-12-26-15-01-36.jpg\",\"2021-12-26-15-01-36.jpg\"]:\n",
    "    #         print(f\"Image {image} with Error (Skip) \")\n",
    "    #         #continue\n",
    "    #     else:\n",
    "    try:\n",
    "        #predict on image\n",
    "        probabilities = predict(image_path=path+image,classes_dict=classes_dict)\n",
    "        # Print the top 5 predicted labels and their probabilities\n",
    "        #print(image) #Filename\n",
    "        top1_prob, top1_indices = torch.topk(probabilities, 1)\n",
    "        ##print(top1_prob, top1_indices)\n",
    "        #print(str(top1_indices.item())) #imagenet class\n",
    "        ##print(classes_dict[str(top1_indices.item())])\n",
    "        #print('impala' in classes_dict[str(top1_indices.item())]) #impala true or false\n",
    "        #print(top1_prob.item(),\"\\n\") #probability\n",
    "        ## Generate data for each column\n",
    "        column1_data = image\n",
    "        column2_data = str(top1_indices.item())\n",
    "        column3_data = 'impala' in classes_dict[str(top1_indices.item())]\n",
    "        column4_data = top1_prob.item()\n",
    "\n",
    "        # Append data for this row to the list\n",
    "        data.append([column1_data, column2_data,column3_data, column4_data])\n",
    "        idx += 1\n",
    "    except Exception as e:\n",
    "        # Handle the exception\n",
    "        print(f\"An error occurred for image : {image}: {e}\")\n",
    "        continue  # Continue to the next iteration of the loop\n",
    "\n",
    "print(\"Images processed : \",idx)"
   ]
  },
  {
   "cell_type": "code",
   "execution_count": 8,
   "id": "755727aa",
   "metadata": {
    "execution": {
     "iopub.execute_input": "2024-04-28T18:34:57.047364Z",
     "iopub.status.busy": "2024-04-28T18:34:57.046987Z",
     "iopub.status.idle": "2024-04-28T18:34:57.053596Z",
     "shell.execute_reply": "2024-04-28T18:34:57.052217Z"
    },
    "papermill": {
     "duration": 0.017607,
     "end_time": "2024-04-28T18:34:57.056040",
     "exception": false,
     "start_time": "2024-04-28T18:34:57.038433",
     "status": "completed"
    },
    "tags": []
   },
   "outputs": [],
   "source": [
    "# Define column names\n",
    "columns = ['Filename','Predicted_Class','Impala','probability']\n",
    "\n",
    "# Create DataFrame\n",
    "df_results = pd.DataFrame(data, columns=columns)"
   ]
  },
  {
   "cell_type": "code",
   "execution_count": 9,
   "id": "d1879d8c",
   "metadata": {
    "execution": {
     "iopub.execute_input": "2024-04-28T18:34:57.072051Z",
     "iopub.status.busy": "2024-04-28T18:34:57.071649Z",
     "iopub.status.idle": "2024-04-28T18:34:57.083811Z",
     "shell.execute_reply": "2024-04-28T18:34:57.082756Z"
    },
    "papermill": {
     "duration": 0.022581,
     "end_time": "2024-04-28T18:34:57.085996",
     "exception": false,
     "start_time": "2024-04-28T18:34:57.063415",
     "status": "completed"
    },
    "tags": []
   },
   "outputs": [
    {
     "data": {
      "text/html": [
       "<div>\n",
       "<style scoped>\n",
       "    .dataframe tbody tr th:only-of-type {\n",
       "        vertical-align: middle;\n",
       "    }\n",
       "\n",
       "    .dataframe tbody tr th {\n",
       "        vertical-align: top;\n",
       "    }\n",
       "\n",
       "    .dataframe thead th {\n",
       "        text-align: right;\n",
       "    }\n",
       "</style>\n",
       "<table border=\"1\" class=\"dataframe\">\n",
       "  <thead>\n",
       "    <tr style=\"text-align: right;\">\n",
       "      <th></th>\n",
       "      <th>Filename</th>\n",
       "      <th>Predicted_Class</th>\n",
       "      <th>Impala</th>\n",
       "      <th>probability</th>\n",
       "    </tr>\n",
       "  </thead>\n",
       "  <tbody>\n",
       "    <tr>\n",
       "      <th>0</th>\n",
       "      <td>2021-08-01-07-31-10.jpg</td>\n",
       "      <td>607</td>\n",
       "      <td>False</td>\n",
       "      <td>0.208220</td>\n",
       "    </tr>\n",
       "    <tr>\n",
       "      <th>1</th>\n",
       "      <td>2021-08-01-07-31-13.jpg</td>\n",
       "      <td>607</td>\n",
       "      <td>False</td>\n",
       "      <td>0.091541</td>\n",
       "    </tr>\n",
       "    <tr>\n",
       "      <th>2</th>\n",
       "      <td>2021-08-01-07-31-35.jpg</td>\n",
       "      <td>430</td>\n",
       "      <td>False</td>\n",
       "      <td>0.039866</td>\n",
       "    </tr>\n",
       "    <tr>\n",
       "      <th>3</th>\n",
       "      <td>2021-08-01-07-31-41.jpg</td>\n",
       "      <td>111</td>\n",
       "      <td>False</td>\n",
       "      <td>0.036809</td>\n",
       "    </tr>\n",
       "    <tr>\n",
       "      <th>4</th>\n",
       "      <td>2021-08-13-16-21-34.jpg</td>\n",
       "      <td>417</td>\n",
       "      <td>False</td>\n",
       "      <td>0.054818</td>\n",
       "    </tr>\n",
       "  </tbody>\n",
       "</table>\n",
       "</div>"
      ],
      "text/plain": [
       "                  Filename Predicted_Class  Impala  probability\n",
       "0  2021-08-01-07-31-10.jpg             607   False     0.208220\n",
       "1  2021-08-01-07-31-13.jpg             607   False     0.091541\n",
       "2  2021-08-01-07-31-35.jpg             430   False     0.039866\n",
       "3  2021-08-01-07-31-41.jpg             111   False     0.036809\n",
       "4  2021-08-13-16-21-34.jpg             417   False     0.054818"
      ]
     },
     "execution_count": 9,
     "metadata": {},
     "output_type": "execute_result"
    }
   ],
   "source": [
    "df_results.head()"
   ]
  },
  {
   "cell_type": "code",
   "execution_count": 10,
   "id": "70c7edaa",
   "metadata": {
    "execution": {
     "iopub.execute_input": "2024-04-28T18:34:57.102247Z",
     "iopub.status.busy": "2024-04-28T18:34:57.101871Z",
     "iopub.status.idle": "2024-04-28T18:34:57.108416Z",
     "shell.execute_reply": "2024-04-28T18:34:57.107400Z"
    },
    "papermill": {
     "duration": 0.017555,
     "end_time": "2024-04-28T18:34:57.110710",
     "exception": false,
     "start_time": "2024-04-28T18:34:57.093155",
     "status": "completed"
    },
    "tags": []
   },
   "outputs": [
    {
     "data": {
      "text/plain": [
       "(1059, 4)"
      ]
     },
     "execution_count": 10,
     "metadata": {},
     "output_type": "execute_result"
    }
   ],
   "source": [
    "df_results.shape"
   ]
  },
  {
   "cell_type": "code",
   "execution_count": 11,
   "id": "0b93b692",
   "metadata": {
    "execution": {
     "iopub.execute_input": "2024-04-28T18:34:57.127465Z",
     "iopub.status.busy": "2024-04-28T18:34:57.126531Z",
     "iopub.status.idle": "2024-04-28T18:34:57.142968Z",
     "shell.execute_reply": "2024-04-28T18:34:57.141769Z"
    },
    "papermill": {
     "duration": 0.027257,
     "end_time": "2024-04-28T18:34:57.145261",
     "exception": false,
     "start_time": "2024-04-28T18:34:57.118004",
     "status": "completed"
    },
    "tags": []
   },
   "outputs": [
    {
     "data": {
      "text/plain": [
       "Impala\n",
       "False    1057\n",
       "True        2\n",
       "Name: count, dtype: int64"
      ]
     },
     "execution_count": 11,
     "metadata": {},
     "output_type": "execute_result"
    }
   ],
   "source": [
    "df_results[\"Impala\"].value_counts()"
   ]
  },
  {
   "cell_type": "code",
   "execution_count": 12,
   "id": "5b1093f2",
   "metadata": {
    "execution": {
     "iopub.execute_input": "2024-04-28T18:34:57.162515Z",
     "iopub.status.busy": "2024-04-28T18:34:57.161556Z",
     "iopub.status.idle": "2024-04-28T18:34:57.172436Z",
     "shell.execute_reply": "2024-04-28T18:34:57.171408Z"
    },
    "papermill": {
     "duration": 0.021934,
     "end_time": "2024-04-28T18:34:57.174832",
     "exception": false,
     "start_time": "2024-04-28T18:34:57.152898",
     "status": "completed"
    },
    "tags": []
   },
   "outputs": [
    {
     "data": {
      "text/plain": [
       "Impala\n",
       "False    0.998111\n",
       "True     0.001889\n",
       "Name: proportion, dtype: float64"
      ]
     },
     "execution_count": 12,
     "metadata": {},
     "output_type": "execute_result"
    }
   ],
   "source": [
    "df_results[\"Impala\"].value_counts(normalize=True)"
   ]
  },
  {
   "cell_type": "code",
   "execution_count": 13,
   "id": "8df29ebe",
   "metadata": {
    "execution": {
     "iopub.execute_input": "2024-04-28T18:34:57.191444Z",
     "iopub.status.busy": "2024-04-28T18:34:57.191008Z",
     "iopub.status.idle": "2024-04-28T18:34:57.198769Z",
     "shell.execute_reply": "2024-04-28T18:34:57.197520Z"
    },
    "papermill": {
     "duration": 0.018813,
     "end_time": "2024-04-28T18:34:57.201145",
     "exception": false,
     "start_time": "2024-04-28T18:34:57.182332",
     "status": "completed"
    },
    "tags": []
   },
   "outputs": [
    {
     "data": {
      "text/plain": [
       "0.10696955843774973"
      ]
     },
     "execution_count": 13,
     "metadata": {},
     "output_type": "execute_result"
    }
   ],
   "source": [
    "df_results[\"probability\"].mean()"
   ]
  },
  {
   "cell_type": "code",
   "execution_count": 14,
   "id": "d46f0ecc",
   "metadata": {
    "execution": {
     "iopub.execute_input": "2024-04-28T18:34:57.218645Z",
     "iopub.status.busy": "2024-04-28T18:34:57.217633Z",
     "iopub.status.idle": "2024-04-28T18:34:57.227005Z",
     "shell.execute_reply": "2024-04-28T18:34:57.225939Z"
    },
    "papermill": {
     "duration": 0.020675,
     "end_time": "2024-04-28T18:34:57.229518",
     "exception": false,
     "start_time": "2024-04-28T18:34:57.208843",
     "status": "completed"
    },
    "tags": []
   },
   "outputs": [
    {
     "data": {
      "text/plain": [
       "0.050741326063871384"
      ]
     },
     "execution_count": 14,
     "metadata": {},
     "output_type": "execute_result"
    }
   ],
   "source": [
    "df_results[\"probability\"].median()"
   ]
  },
  {
   "cell_type": "code",
   "execution_count": 15,
   "id": "86c9a82c",
   "metadata": {
    "execution": {
     "iopub.execute_input": "2024-04-28T18:34:57.246735Z",
     "iopub.status.busy": "2024-04-28T18:34:57.246292Z",
     "iopub.status.idle": "2024-04-28T18:34:57.254770Z",
     "shell.execute_reply": "2024-04-28T18:34:57.253539Z"
    },
    "papermill": {
     "duration": 0.019716,
     "end_time": "2024-04-28T18:34:57.257145",
     "exception": false,
     "start_time": "2024-04-28T18:34:57.237429",
     "status": "completed"
    },
    "tags": []
   },
   "outputs": [
    {
     "data": {
      "text/plain": [
       "0.5657218843698502"
      ]
     },
     "execution_count": 15,
     "metadata": {},
     "output_type": "execute_result"
    }
   ],
   "source": [
    "df_results[df_results[\"Impala\"]==True][\"probability\"].mean()"
   ]
  },
  {
   "cell_type": "code",
   "execution_count": 16,
   "id": "127564d6",
   "metadata": {
    "execution": {
     "iopub.execute_input": "2024-04-28T18:34:57.274756Z",
     "iopub.status.busy": "2024-04-28T18:34:57.274339Z",
     "iopub.status.idle": "2024-04-28T18:34:57.283651Z",
     "shell.execute_reply": "2024-04-28T18:34:57.282494Z"
    },
    "papermill": {
     "duration": 0.020834,
     "end_time": "2024-04-28T18:34:57.285870",
     "exception": false,
     "start_time": "2024-04-28T18:34:57.265036",
     "status": "completed"
    },
    "tags": []
   },
   "outputs": [
    {
     "data": {
      "text/plain": [
       "0.5657218843698502"
      ]
     },
     "execution_count": 16,
     "metadata": {},
     "output_type": "execute_result"
    }
   ],
   "source": [
    "df_results[df_results[\"Impala\"]==True][\"probability\"].median()"
   ]
  },
  {
   "cell_type": "code",
   "execution_count": 17,
   "id": "9f11d7a3",
   "metadata": {
    "execution": {
     "iopub.execute_input": "2024-04-28T18:34:57.303836Z",
     "iopub.status.busy": "2024-04-28T18:34:57.303056Z",
     "iopub.status.idle": "2024-04-28T18:34:57.311867Z",
     "shell.execute_reply": "2024-04-28T18:34:57.310812Z"
    },
    "papermill": {
     "duration": 0.020294,
     "end_time": "2024-04-28T18:34:57.314191",
     "exception": false,
     "start_time": "2024-04-28T18:34:57.293897",
     "status": "completed"
    },
    "tags": []
   },
   "outputs": [
    {
     "data": {
      "text/plain": [
       "0.10610153133097186"
      ]
     },
     "execution_count": 17,
     "metadata": {},
     "output_type": "execute_result"
    }
   ],
   "source": [
    "df_results[df_results[\"Impala\"]==False][\"probability\"].mean()"
   ]
  },
  {
   "cell_type": "code",
   "execution_count": 18,
   "id": "74ddb637",
   "metadata": {
    "execution": {
     "iopub.execute_input": "2024-04-28T18:34:57.332171Z",
     "iopub.status.busy": "2024-04-28T18:34:57.331743Z",
     "iopub.status.idle": "2024-04-28T18:34:57.341323Z",
     "shell.execute_reply": "2024-04-28T18:34:57.340093Z"
    },
    "papermill": {
     "duration": 0.021093,
     "end_time": "2024-04-28T18:34:57.343567",
     "exception": false,
     "start_time": "2024-04-28T18:34:57.322474",
     "status": "completed"
    },
    "tags": []
   },
   "outputs": [
    {
     "data": {
      "text/plain": [
       "0.05070894956588745"
      ]
     },
     "execution_count": 18,
     "metadata": {},
     "output_type": "execute_result"
    }
   ],
   "source": [
    "df_results[df_results[\"Impala\"]==False][\"probability\"].median()"
   ]
  },
  {
   "cell_type": "code",
   "execution_count": 19,
   "id": "81671b91",
   "metadata": {
    "execution": {
     "iopub.execute_input": "2024-04-28T18:34:57.362181Z",
     "iopub.status.busy": "2024-04-28T18:34:57.361094Z",
     "iopub.status.idle": "2024-04-28T18:34:57.366402Z",
     "shell.execute_reply": "2024-04-28T18:34:57.365334Z"
    },
    "papermill": {
     "duration": 0.017073,
     "end_time": "2024-04-28T18:34:57.368887",
     "exception": false,
     "start_time": "2024-04-28T18:34:57.351814",
     "status": "completed"
    },
    "tags": []
   },
   "outputs": [],
   "source": [
    "# #Top 5\n",
    "# top5_prob, top5_indices = torch.topk(probabilities, 1)\n",
    "# print(top5_prob, top5_indices)\n",
    "# for i in range(len(top5_prob)):\n",
    "#     print(i)\n",
    "#     print(classes_dict[str(top5_indices[i].item())])\n",
    "#     print(top5_prob[i].item())\n",
    "#     #print(classes_dict[str(top5_indices[i])], top5_prob[i].item())\n"
   ]
  },
  {
   "cell_type": "code",
   "execution_count": null,
   "id": "73d02b3c",
   "metadata": {
    "papermill": {
     "duration": 0.00783,
     "end_time": "2024-04-28T18:34:57.385172",
     "exception": false,
     "start_time": "2024-04-28T18:34:57.377342",
     "status": "completed"
    },
    "tags": []
   },
   "outputs": [],
   "source": []
  },
  {
   "cell_type": "code",
   "execution_count": null,
   "id": "41e59d52",
   "metadata": {
    "papermill": {
     "duration": 0.007927,
     "end_time": "2024-04-28T18:34:57.401154",
     "exception": false,
     "start_time": "2024-04-28T18:34:57.393227",
     "status": "completed"
    },
    "tags": []
   },
   "outputs": [],
   "source": []
  }
 ],
 "metadata": {
  "kaggle": {
   "accelerator": "none",
   "dataSources": [
    {
     "datasetId": 3698309,
     "sourceId": 6412874,
     "sourceType": "datasetVersion"
    },
    {
     "datasetId": 2507896,
     "sourceId": 8192302,
     "sourceType": "datasetVersion"
    },
    {
     "datasetId": 4883782,
     "sourceId": 8234424,
     "sourceType": "datasetVersion"
    },
    {
     "sourceId": 173950436,
     "sourceType": "kernelVersion"
    },
    {
     "sourceId": 174011877,
     "sourceType": "kernelVersion"
    },
    {
     "sourceId": 174507173,
     "sourceType": "kernelVersion"
    }
   ],
   "dockerImageVersionId": 30698,
   "isGpuEnabled": false,
   "isInternetEnabled": true,
   "language": "python",
   "sourceType": "notebook"
  },
  "kernelspec": {
   "display_name": "Python 3",
   "language": "python",
   "name": "python3"
  },
  "language_info": {
   "codemirror_mode": {
    "name": "ipython",
    "version": 3
   },
   "file_extension": ".py",
   "mimetype": "text/x-python",
   "name": "python",
   "nbconvert_exporter": "python",
   "pygments_lexer": "ipython3",
   "version": "3.10.13"
  },
  "papermill": {
   "default_parameters": {},
   "duration": 43.755666,
   "end_time": "2024-04-28T18:34:58.733186",
   "environment_variables": {},
   "exception": null,
   "input_path": "__notebook__.ipynb",
   "output_path": "__notebook__.ipynb",
   "parameters": {},
   "start_time": "2024-04-28T18:34:14.977520",
   "version": "2.5.0"
  }
 },
 "nbformat": 4,
 "nbformat_minor": 5
}
