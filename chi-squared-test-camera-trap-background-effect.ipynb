{
 "cells": [
  {
   "cell_type": "code",
   "execution_count": 1,
   "id": "68cca809",
   "metadata": {
    "_cell_guid": "b1076dfc-b9ad-4769-8c92-a6c4dae69d19",
    "_uuid": "8f2839f25d086af736a60e9eeb907d3b93b6e0e5",
    "execution": {
     "iopub.execute_input": "2024-07-03T10:12:57.998184Z",
     "iopub.status.busy": "2024-07-03T10:12:57.997732Z",
     "iopub.status.idle": "2024-07-03T10:12:59.293950Z",
     "shell.execute_reply": "2024-07-03T10:12:59.292614Z"
    },
    "papermill": {
     "duration": 1.30327,
     "end_time": "2024-07-03T10:12:59.296830",
     "exception": false,
     "start_time": "2024-07-03T10:12:57.993560",
     "status": "completed"
    },
    "tags": []
   },
   "outputs": [
    {
     "name": "stdout",
     "output_type": "stream",
     "text": [
      "Chi-Square Statistic: 287.6019192424777\n",
      "P-value: 3.5321305262154047e-63\n",
      "Degrees of Freedom: 2\n",
      "Expected Frequencies:\n",
      "[[ 62.66666667 864.33333333]\n",
      " [ 62.66666667 864.33333333]\n",
      " [ 62.66666667 864.33333333]]\n",
      "Reject the null hypothesis: Backgrounds do not affect classification performance.\n"
     ]
    }
   ],
   "source": [
    "import numpy as np\n",
    "from scipy.stats import chi2_contingency\n",
    "\n",
    "# Create the contingency table\n",
    "data = np.array([[168, 759],\n",
    "                 [1, 926],\n",
    "                 [19, 908]])\n",
    "\n",
    "# Perform the chi-square test\n",
    "chi2, p, dof, expected = chi2_contingency(data)\n",
    "\n",
    "# Print the results\n",
    "print(f\"Chi-Square Statistic: {chi2}\")\n",
    "print(f\"P-value: {p}\")\n",
    "print(f\"Degrees of Freedom: {dof}\")\n",
    "print(\"Expected Frequencies:\")\n",
    "print(expected)\n",
    "\n",
    "# Interpret the result\n",
    "alpha = 0.05\n",
    "if p < alpha:\n",
    "    print(\"Reject the null hypothesis: Backgrounds do not affect classification performance.\")\n",
    "else:\n",
    "    print(\"Fail to reject the null hypothesis: Backgrounds affect classification performance.\")\n"
   ]
  },
  {
   "cell_type": "code",
   "execution_count": null,
   "id": "e76a99d5",
   "metadata": {
    "papermill": {
     "duration": 0.002007,
     "end_time": "2024-07-03T10:12:59.301601",
     "exception": false,
     "start_time": "2024-07-03T10:12:59.299594",
     "status": "completed"
    },
    "tags": []
   },
   "outputs": [],
   "source": []
  }
 ],
 "metadata": {
  "kaggle": {
   "accelerator": "none",
   "dataSources": [],
   "dockerImageVersionId": 30732,
   "isGpuEnabled": false,
   "isInternetEnabled": true,
   "language": "python",
   "sourceType": "notebook"
  },
  "kernelspec": {
   "display_name": "Python 3",
   "language": "python",
   "name": "python3"
  },
  "language_info": {
   "codemirror_mode": {
    "name": "ipython",
    "version": 3
   },
   "file_extension": ".py",
   "mimetype": "text/x-python",
   "name": "python",
   "nbconvert_exporter": "python",
   "pygments_lexer": "ipython3",
   "version": "3.10.13"
  },
  "papermill": {
   "default_parameters": {},
   "duration": 5.269015,
   "end_time": "2024-07-03T10:12:59.826814",
   "environment_variables": {},
   "exception": null,
   "input_path": "__notebook__.ipynb",
   "output_path": "__notebook__.ipynb",
   "parameters": {},
   "start_time": "2024-07-03T10:12:54.557799",
   "version": "2.5.0"
  }
 },
 "nbformat": 4,
 "nbformat_minor": 5
}
